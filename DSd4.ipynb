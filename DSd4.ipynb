{
  "nbformat": 4,
  "nbformat_minor": 0,
  "metadata": {
    "colab": {
      "name": "DSd4.ipynb",
      "provenance": [],
      "authorship_tag": "ABX9TyPNPGRde0u12gEtHd5aFq1f",
      "include_colab_link": true
    },
    "kernelspec": {
      "name": "python3",
      "display_name": "Python 3"
    }
  },
  "cells": [
    {
      "cell_type": "markdown",
      "metadata": {
        "id": "view-in-github",
        "colab_type": "text"
      },
      "source": [
        "<a href=\"https://colab.research.google.com/github/Suryaprakash17/letsupgrade-DS-advance/blob/main/DSd4.ipynb\" target=\"_parent\"><img src=\"https://colab.research.google.com/assets/colab-badge.svg\" alt=\"Open In Colab\"/></a>"
      ]
    },
    {
      "cell_type": "code",
      "metadata": {
        "id": "5pLr3l9vLcS_"
      },
      "source": [
        "import numpy as np\r\n",
        "import scipy.linalg as la\r\n",
        "import copy"
      ],
      "execution_count": 34,
      "outputs": []
    },
    {
      "cell_type": "markdown",
      "metadata": {
        "id": "d2DF6rJxLUqb"
      },
      "source": [
        "# 1. Eigenvalues and Eigenvectors"
      ]
    },
    {
      "cell_type": "markdown",
      "metadata": {
        "id": "dp73KIilUDQE"
      },
      "source": [
        "Function:\r\n",
        "The function scipy.linalg.eig computes eigenvalues and eigenvectors of a square matrix "
      ]
    },
    {
      "cell_type": "markdown",
      "metadata": {
        "id": "hb3Ou52gTTZl"
      },
      "source": [
        "Syntax: \r\n",
        "numpy.linalg.eig(a)"
      ]
    },
    {
      "cell_type": "markdown",
      "metadata": {
        "id": "jmegvTObWPEK"
      },
      "source": [
        "Code:"
      ]
    },
    {
      "cell_type": "code",
      "metadata": {
        "colab": {
          "base_uri": "https://localhost:8080/"
        },
        "id": "bM60fsF2IbCL",
        "outputId": "5701cd19-1a5b-44d1-b051-17a41a83453f"
      },
      "source": [
        "a=np.array([[1,2],[3,4]])\r\n",
        "print(a)\r\n",
        "print() \r\n",
        "r=la.eig(a)\r\n",
        "print(r[0]) #eigenvalues\r\n",
        "print()\r\n",
        "print(r[1]) #eigenvectors"
      ],
      "execution_count": 9,
      "outputs": [
        {
          "output_type": "stream",
          "text": [
            "[[1 2]\n",
            " [3 4]]\n",
            "\n",
            "[-0.37228132+0.j  5.37228132+0.j]\n",
            "\n",
            "[[-0.82456484 -0.41597356]\n",
            " [ 0.56576746 -0.90937671]]\n"
          ],
          "name": "stdout"
        }
      ]
    },
    {
      "cell_type": "markdown",
      "metadata": {
        "id": "A5S1T0XBVGvD"
      },
      "source": [
        "# 2.digitize()"
      ]
    },
    {
      "cell_type": "markdown",
      "metadata": {
        "id": "gIIlwVqVV4ir"
      },
      "source": [
        "Function: digitize() method, we can get the indices of the bins to which the each value is belongs to an array by using np. "
      ]
    },
    {
      "cell_type": "markdown",
      "metadata": {
        "id": "i8eoAQ0yWBKy"
      },
      "source": [
        " Syntax : np.digitize(Array, Bin, Right)"
      ]
    },
    {
      "cell_type": "markdown",
      "metadata": {
        "id": "DrkW40yaWGRy"
      },
      "source": [
        "Code:"
      ]
    },
    {
      "cell_type": "code",
      "metadata": {
        "colab": {
          "base_uri": "https://localhost:8080/"
        },
        "id": "SMqvcTOhWJfS",
        "outputId": "c5880dae-48c0-4041-a6c1-f0817ec26958"
      },
      "source": [
        "b = np.array([1.2, 2.4, 3.6, 4.8]) \r\n",
        "bins = np.array([1.0, 1.3, 2.5, 4.0, 10.0])  \r\n",
        "r=np.digitize(b,bins) \r\n",
        "print(r)"
      ],
      "execution_count": 11,
      "outputs": [
        {
          "output_type": "stream",
          "text": [
            "[1 2 3 4]\n"
          ],
          "name": "stdout"
        }
      ]
    },
    {
      "cell_type": "markdown",
      "metadata": {
        "id": "oNqQdB3CZRn_"
      },
      "source": [
        "# 3.repeat()"
      ]
    },
    {
      "cell_type": "markdown",
      "metadata": {
        "id": "l4H77WOGZl7W"
      },
      "source": [
        "Function: for loops are traditionally used when you have a block of code which you want to repeat a fixed number of times. The Python for statement iterates over the members of a sequence in order, executing the block each time."
      ]
    },
    {
      "cell_type": "markdown",
      "metadata": {
        "id": "U06qJYCwaHMm"
      },
      "source": [
        "Syntax: numpy.repeat(arr, repetitions, axis = None)\r\n"
      ]
    },
    {
      "cell_type": "markdown",
      "metadata": {
        "id": "kV5t8VHBaTDm"
      },
      "source": [
        "Code:"
      ]
    },
    {
      "cell_type": "code",
      "metadata": {
        "colab": {
          "base_uri": "https://localhost:8080/"
        },
        "id": "_OifJ6iTaW9F",
        "outputId": "dbbbe550-01e9-402c-aefc-d7a2ba84f467"
      },
      "source": [
        "ar = np.arange(5) \r\n",
        "print(\"Array : \\n\", ar) \r\n",
        "  \r\n",
        "repetitions = 2\r\n",
        "r = np.repeat(ar, repetitions) \r\n",
        "print(\"\\nRepeating array 2 times : \\n\", r) \r\n",
        "print(\"Shape is : \", r.shape) \r\n",
        "  \r\n",
        "repetitions = 3\r\n",
        "r = np.repeat(ar, repetitions) \r\n",
        "print(\"\\nRepeating array 3 times : \\n\", r) \r\n",
        "print(\"Shape is : \", r.shape)"
      ],
      "execution_count": 13,
      "outputs": [
        {
          "output_type": "stream",
          "text": [
            "Array : \n",
            " [0 1 2 3 4]\n",
            "\n",
            "Repeating array 2 times : \n",
            " [0 0 1 1 2 2 3 3 4 4]\n",
            "Shape is :  (10,)\n",
            "\n",
            "Repeating array 3 times : \n",
            " [0 0 0 1 1 1 2 2 2 3 3 3 4 4 4]\n",
            "Shape is :  (15,)\n"
          ],
          "name": "stdout"
        }
      ]
    },
    {
      "cell_type": "markdown",
      "metadata": {
        "id": "G_L8uAaWcTDs"
      },
      "source": [
        "# 4.squeeze()"
      ]
    },
    {
      "cell_type": "markdown",
      "metadata": {
        "id": "7WsxiBNOdEP6"
      },
      "source": [
        "Function: squeeze() function is used when we want to remove single-dimensional entries from the shape of an array."
      ]
    },
    {
      "cell_type": "markdown",
      "metadata": {
        "id": "5tXEg2cedQrp"
      },
      "source": [
        "Syntax: arr : [array_like] Input array.\r\n",
        " "
      ]
    },
    {
      "cell_type": "markdown",
      "metadata": {
        "id": "wkbPIStleoXh"
      },
      "source": [
        "Code:"
      ]
    },
    {
      "cell_type": "code",
      "metadata": {
        "colab": {
          "base_uri": "https://localhost:8080/"
        },
        "id": "5bjn2sQmerM3",
        "outputId": "483ec39c-ec2d-4faf-b394-87813d5b4e74"
      },
      "source": [
        "in_ar = np.array([[[2, 2, 2], [2, 2, 2]]]) \r\n",
        "print (\"Input array : \",in_ar)  \r\n",
        "print(\"Shape of input array : \",in_ar.shape)   \r\n",
        "out_ar = np.squeeze(in_ar)  \r\n",
        "print (\"Output squeezed array : \", out_ar) \r\n",
        "print(\"Shape of the output array : \", out_ar.shape)  \r\n"
      ],
      "execution_count": 15,
      "outputs": [
        {
          "output_type": "stream",
          "text": [
            "Input array :  [[[2 2 2]\n",
            "  [2 2 2]]]\n",
            "Shape of input array :  (1, 2, 3)\n",
            "Output squeezed array :  [[2 2 2]\n",
            " [2 2 2]]\n",
            "Shape of the output array :  (2, 3)\n"
          ],
          "name": "stdout"
        }
      ]
    },
    {
      "cell_type": "markdown",
      "metadata": {
        "id": "7uaFKiJcf4_G"
      },
      "source": [
        "# 5. linespace()"
      ]
    },
    {
      "cell_type": "markdown",
      "metadata": {
        "id": "BSLVTkUHgJ3a"
      },
      "source": [
        "Function: Linspace is an in-built function in Python's NumPy library.\r\n",
        "It is used to create an evenly spaced sequence in a specified interval.\r\n"
      ]
    },
    {
      "cell_type": "markdown",
      "metadata": {
        "id": "Bpe3CTwbgTMP"
      },
      "source": [
        "Syntax: numpy.linspace(start,\r\n",
        "               stop,\r\n",
        "               num = 50,\r\n",
        "               endpoint = True,\r\n",
        "               retstep = False,\r\n",
        "               dtype = None)"
      ]
    },
    {
      "cell_type": "markdown",
      "metadata": {
        "id": "OrZ3ZCJbgP1F"
      },
      "source": [
        "Code:"
      ]
    },
    {
      "cell_type": "code",
      "metadata": {
        "colab": {
          "base_uri": "https://localhost:8080/"
        },
        "id": "CizQ1SgBgXSU",
        "outputId": "7149b3f2-0f38-4164-f389-231c04150800"
      },
      "source": [
        "print(\"B\\n\", np.linspace(2.0, 3.0, num=5, retstep=True), \"\\n\") # restep set to True \r\n",
        "x = np.linspace(0, 3, 10) # To evaluate sin() in long range \r\n",
        "print(\"A\\n\", np.sin(x))"
      ],
      "execution_count": 17,
      "outputs": [
        {
          "output_type": "stream",
          "text": [
            "B\n",
            " (array([2.  , 2.25, 2.5 , 2.75, 3.  ]), 0.25) \n",
            "\n",
            "A\n",
            " [0.         0.3271947  0.6183698  0.84147098 0.9719379  0.99540796\n",
            " 0.90929743 0.72308588 0.45727263 0.14112001]\n"
          ],
          "name": "stdout"
        }
      ]
    },
    {
      "cell_type": "markdown",
      "metadata": {
        "id": "dl4ZcXuyhvc0"
      },
      "source": [
        "# 6.clip()"
      ]
    },
    {
      "cell_type": "markdown",
      "metadata": {
        "id": "yZFC_3sOh1FE"
      },
      "source": [
        "Function: clip() function is used to Clip (limit) the values in an array. Given an interval, values outside the interval are clipped to the interval edges."
      ]
    },
    {
      "cell_type": "markdown",
      "metadata": {
        "id": "3_XMF6n9h1Zj"
      },
      "source": [
        "Syntax: numpy.clip(a, a_min, a_max, out=None)\r\n",
        "\r\n"
      ]
    },
    {
      "cell_type": "markdown",
      "metadata": {
        "id": "zk3-4mJlh1t9"
      },
      "source": [
        "Code:"
      ]
    },
    {
      "cell_type": "code",
      "metadata": {
        "colab": {
          "base_uri": "https://localhost:8080/"
        },
        "id": "Lg-lOZFKiEuS",
        "outputId": "8ce3ead4-410a-4af2-a463-ff9e89c52f41"
      },
      "source": [
        "in_array = [1, 2, 3, 4, 5, 6, 7, 8 ] \r\n",
        "print (\"Input array : \", in_array) \r\n",
        "  \r\n",
        "out_array = np.clip(in_array, a_min = 2, a_max = 6) \r\n",
        "print (\"Output array : \", out_array)"
      ],
      "execution_count": 18,
      "outputs": [
        {
          "output_type": "stream",
          "text": [
            "Input array :  [1, 2, 3, 4, 5, 6, 7, 8]\n",
            "Output array :  [2 2 3 4 5 6 6 6]\n"
          ],
          "name": "stdout"
        }
      ]
    },
    {
      "cell_type": "markdown",
      "metadata": {
        "id": "tfjyt7jwiM_T"
      },
      "source": [
        "#7.extract()"
      ]
    },
    {
      "cell_type": "markdown",
      "metadata": {
        "id": "aCUcXlsfiTIc"
      },
      "source": [
        "Function: extract() function is used to extract capture groups in the regex pat as columns in a DataFrame. For each subject string in the Series, extract groups from the first match of regular expression pat. Parameter : pat : Regular expression pattern with capturing groups.\r\n"
      ]
    },
    {
      "cell_type": "markdown",
      "metadata": {
        "id": "marGRyUpiTIn"
      },
      "source": [
        "Syntax: numpy.extract(condition, array)\r\n",
        "\r\n",
        "\r\n"
      ]
    },
    {
      "cell_type": "markdown",
      "metadata": {
        "id": "nAsHp1ybiTIn"
      },
      "source": [
        "Code:"
      ]
    },
    {
      "cell_type": "code",
      "metadata": {
        "colab": {
          "base_uri": "https://localhost:8080/"
        },
        "id": "RJq_gq3XiVbf",
        "outputId": "4199dace-f45f-4605-e3e0-c1d7e61abb1d"
      },
      "source": [
        "arr = np.arange(10).reshape(5, 2) \r\n",
        "print(\"Original array is :\\n\", arr) \r\n",
        "r = np.mod(arr, 4) !=0\r\n",
        "print(\"\\nArray Condition r is :\\n\", r) # This will show element status of satisfying condition \r\n",
        "print(\"\\nElements that satisfy condition r  : \\n\", np.extract(r, arr)) # This will return elements that satisy condition \"r\" condition \r\n",
        "r1 = arr - 4 == 1\r\n",
        "print(\"\\nArray Condition r1 :\\n\", r1) # This will show element status of satisfying condition\r\n",
        "print(\"\\nElements that satisfy condition r1  : \\n\", np.extract(r1, arr)) # This will return elements that satisy condition \"r1\" condition \r\n"
      ],
      "execution_count": 20,
      "outputs": [
        {
          "output_type": "stream",
          "text": [
            "Original array is :\n",
            " [[0 1]\n",
            " [2 3]\n",
            " [4 5]\n",
            " [6 7]\n",
            " [8 9]]\n",
            "\n",
            "Array Condition r is :\n",
            " [[False  True]\n",
            " [ True  True]\n",
            " [False  True]\n",
            " [ True  True]\n",
            " [False  True]]\n",
            "\n",
            "Elements that satisfy condition r  : \n",
            " [1 2 3 5 6 7 9]\n",
            "\n",
            "Array Condition r1 :\n",
            " [[False False]\n",
            " [False False]\n",
            " [False  True]\n",
            " [False False]\n",
            " [False False]]\n",
            "\n",
            "Elements that satisfy condition r1  : \n",
            " [5]\n"
          ],
          "name": "stdout"
        }
      ]
    },
    {
      "cell_type": "markdown",
      "metadata": {
        "id": "01sK7-9XiXPY"
      },
      "source": [
        "#8.argpartition()"
      ]
    },
    {
      "cell_type": "markdown",
      "metadata": {
        "id": "MU-6dL_BikRV"
      },
      "source": [
        "Function: argpartition() in Python. numpy. argpartition() function is used to create a indirect partitioned copy of input array with its elements rearranged in such a way that the value of the element in k-th position is in the position it would be in a sorted array.\r\n"
      ]
    },
    {
      "cell_type": "markdown",
      "metadata": {
        "id": "gzNvKMMIikRX"
      },
      "source": [
        "Syntax: numpy.argpartition(arr, kth, axis=-1, kind=’introselect’, order=None)"
      ]
    },
    {
      "cell_type": "markdown",
      "metadata": {
        "id": "FkYSwFOiikRX"
      },
      "source": [
        "Code:"
      ]
    },
    {
      "cell_type": "code",
      "metadata": {
        "colab": {
          "base_uri": "https://localhost:8080/"
        },
        "id": "Np9xK9RjnOfI",
        "outputId": "04922816-6653-4056-b7e6-4ab30a51adb3"
      },
      "source": [
        "in_arr = np.array([[ 2, 0,  1], [ 5, 4, 9] ]) \r\n",
        "print (\"Input array : \\n\", in_arr)  \r\n",
        "out_arr = np.argpartition(in_arr, 1, axis = 1) \r\n",
        "print (\"Output partitioned array indices :\\n \", out_arr) "
      ],
      "execution_count": 21,
      "outputs": [
        {
          "output_type": "stream",
          "text": [
            "Input array : \n",
            " [[2 0 1]\n",
            " [5 4 9]]\n",
            "Output partitioned array indices :\n",
            "  [[1 2 0]\n",
            " [1 0 2]]\n"
          ],
          "name": "stdout"
        }
      ]
    },
    {
      "cell_type": "markdown",
      "metadata": {
        "id": "LcasT2XTioVr"
      },
      "source": [
        "#9.setdiff1d()"
      ]
    },
    {
      "cell_type": "markdown",
      "metadata": {
        "id": "C7U2ENE6i8NF"
      },
      "source": [
        "Function: setdiff1d() function in Python. numpy. setdiff1d() function find the set difference of two arrays and return the unique values in arr1 that are not in arr2.\r\n"
      ]
    },
    {
      "cell_type": "markdown",
      "metadata": {
        "id": "Fk3ZFMX1i8NG"
      },
      "source": [
        "Syntax: numpy.setdiff1d(arr1, arr2, assume_unique = False)\r\n",
        "\r\n"
      ]
    },
    {
      "cell_type": "markdown",
      "metadata": {
        "id": "QVNcPKxxi8NG"
      },
      "source": [
        "Code:"
      ]
    },
    {
      "cell_type": "code",
      "metadata": {
        "id": "-rsbJQsdieNG",
        "colab": {
          "base_uri": "https://localhost:8080/"
        },
        "outputId": "81b7d81b-9905-44d4-fc06-d2562a3aac18"
      },
      "source": [
        "arr1 = [5, 6, 2, 3, 4] \r\n",
        "arr2 = [1, 2, 3] \r\n",
        "result = np.setdiff1d(arr1, arr2) \r\n",
        "print(result) \r\n"
      ],
      "execution_count": 22,
      "outputs": [
        {
          "output_type": "stream",
          "text": [
            "[4 5 6]\n"
          ],
          "name": "stdout"
        }
      ]
    },
    {
      "cell_type": "markdown",
      "metadata": {
        "id": "84i9pibQi88D"
      },
      "source": [
        "#10.Itemsize"
      ]
    },
    {
      "cell_type": "markdown",
      "metadata": {
        "id": "VIslfFE2jGc9"
      },
      "source": [
        "Function: Itemsize attribute return the size of the dtype of the item of the underlying data for the given Series object."
      ]
    },
    {
      "cell_type": "markdown",
      "metadata": {
        "id": "LxTG8NbujGc-"
      },
      "source": [
        "Syntax: numpy.ndarray.itemsize(arr)\r\n",
        "\r\n"
      ]
    },
    {
      "cell_type": "markdown",
      "metadata": {
        "id": "M11yEg2IjGc-"
      },
      "source": [
        "Code:"
      ]
    },
    {
      "cell_type": "code",
      "metadata": {
        "colab": {
          "base_uri": "https://localhost:8080/"
        },
        "id": "nWler52YjGc_",
        "outputId": "ec952dba-b6e1-4e60-9e31-d905deceafbc"
      },
      "source": [
        "arr = np.array([1, 2, 3, 4]) \r\n",
        "result = arr.itemsize \r\n",
        "print(result)"
      ],
      "execution_count": 24,
      "outputs": [
        {
          "output_type": "stream",
          "text": [
            "8\n"
          ],
          "name": "stdout"
        }
      ]
    },
    {
      "cell_type": "markdown",
      "metadata": {
        "id": "BhBFpV7GpCIb"
      },
      "source": [
        "#11.hstack()"
      ]
    },
    {
      "cell_type": "markdown",
      "metadata": {
        "id": "HbnHuKj9oxtE"
      },
      "source": [
        "Function: hstack() function is used to stack the sequence of input arrays horizontally (i.e. column wise) to make a single array. Parameters : tup : [sequence of ndarrays] Tuple containing arrays to be stacked. The arrays must have the same shape along all but the second axis.\r\n"
      ]
    },
    {
      "cell_type": "markdown",
      "metadata": {
        "id": "G4mtGnkjo6FM"
      },
      "source": [
        "Syntax: numpy.hstack(tup)\r\n",
        "\r\n"
      ]
    },
    {
      "cell_type": "markdown",
      "metadata": {
        "id": "R_pVv0gOo6kW"
      },
      "source": [
        "Code:"
      ]
    },
    {
      "cell_type": "code",
      "metadata": {
        "colab": {
          "base_uri": "https://localhost:8080/"
        },
        "id": "ldmsEq1po_BC",
        "outputId": "0edb2c12-0c23-4080-9def-4236837e48e5"
      },
      "source": [
        "in_arr1 = np.array([ 1, 2, 3] ) \r\n",
        "print (\"1st Input array : \\n\", in_arr1)  \r\n",
        "  \r\n",
        "in_arr2 = np.array([ 4, 5, 6] ) \r\n",
        "print (\"2nd Input array : \\n\", in_arr2)  \r\n",
        "  \r\n",
        "out_arr = np.hstack((in_arr1, in_arr2)) \r\n",
        "print (\"Output horizontally stacked array:\\n \", out_arr) \r\n"
      ],
      "execution_count": 25,
      "outputs": [
        {
          "output_type": "stream",
          "text": [
            "1st Input array : \n",
            " [1 2 3]\n",
            "2nd Input array : \n",
            " [4 5 6]\n",
            "Output horizontally stacked array:\n",
            "  [1 2 3 4 5 6]\n"
          ],
          "name": "stdout"
        }
      ]
    },
    {
      "cell_type": "markdown",
      "metadata": {
        "id": "n09KSpKopU3e"
      },
      "source": [
        "#12.vstack()"
      ]
    },
    {
      "cell_type": "markdown",
      "metadata": {
        "id": "_yJYPPtBpY3N"
      },
      "source": [
        "Function: vstack() function is used to stack the sequence of input arrays vertically to make a single array. Parameters : tup : [sequence of ndarrays] Tuple containing arrays to be stacked. The arrays must have the same shape along all but the first axis."
      ]
    },
    {
      "cell_type": "markdown",
      "metadata": {
        "id": "HifNC-tXpY3e"
      },
      "source": [
        "Syntax: numpy.vstack(tup)\r\n",
        "\r\n"
      ]
    },
    {
      "cell_type": "markdown",
      "metadata": {
        "id": "ptmuPzOnpY3f"
      },
      "source": [
        "Code:"
      ]
    },
    {
      "cell_type": "code",
      "metadata": {
        "colab": {
          "base_uri": "https://localhost:8080/"
        },
        "id": "0xDeVUeGpY3f",
        "outputId": "b056520b-c047-41e0-d32a-4244eeacd544"
      },
      "source": [
        "in_arr1 = np.array([ 1, 2, 3] ) \r\n",
        "print (\"1st Input array : \\n\", in_arr1)  \r\n",
        "  \r\n",
        "in_arr2 = np.array([ 4, 5, 6] ) \r\n",
        "print (\"2nd Input array : \\n\", in_arr2)  \r\n",
        " \r\n",
        "out_arr = np.vstack((in_arr1, in_arr2)) \r\n",
        "print (\"Output vertically stacked array:\\n \", out_arr) "
      ],
      "execution_count": 26,
      "outputs": [
        {
          "output_type": "stream",
          "text": [
            "1st Input array : \n",
            " [1 2 3]\n",
            "2nd Input array : \n",
            " [4 5 6]\n",
            "Output vertically stacked array:\n",
            "  [[1 2 3]\n",
            " [4 5 6]]\n"
          ],
          "name": "stdout"
        }
      ]
    },
    {
      "cell_type": "markdown",
      "metadata": {
        "id": "PYorUNVjpZhm"
      },
      "source": [
        "#13.hsplit()"
      ]
    },
    {
      "cell_type": "markdown",
      "metadata": {
        "id": "9rF7rkwrpoxs"
      },
      "source": [
        "Function: hsplit() function. The hsplit() function is used to split an array into multiple sub-arrays horizontally (column-wise). hsplit is equivalent to split with axis=1, the array is always split along the second axis regardless of the array dimension.\r\n"
      ]
    },
    {
      "cell_type": "markdown",
      "metadata": {
        "id": "up0QIDwBpoxu"
      },
      "source": [
        "Syntax: numpy.hsplit(arr, indices_or_sections)\r\n"
      ]
    },
    {
      "cell_type": "markdown",
      "metadata": {
        "id": "lddNO--Gpoxv"
      },
      "source": [
        "Code:"
      ]
    },
    {
      "cell_type": "code",
      "metadata": {
        "colab": {
          "base_uri": "https://localhost:8080/"
        },
        "id": "TyN2okvbpoxw",
        "outputId": "b7582e02-9773-44a8-fbc7-0c8c03b7a663"
      },
      "source": [
        "arr = np.arange(16.0).reshape(4, 4) \r\n",
        "result = np.hsplit(arr, 2) \r\n",
        "print(result)"
      ],
      "execution_count": 28,
      "outputs": [
        {
          "output_type": "stream",
          "text": [
            "[array([[ 0.,  1.],\n",
            "       [ 4.,  5.],\n",
            "       [ 8.,  9.],\n",
            "       [12., 13.]]), array([[ 2.,  3.],\n",
            "       [ 6.,  7.],\n",
            "       [10., 11.],\n",
            "       [14., 15.]])]\n"
          ],
          "name": "stdout"
        }
      ]
    },
    {
      "cell_type": "markdown",
      "metadata": {
        "id": "a3AjHxhHpphD"
      },
      "source": [
        "#14.vsplit()"
      ]
    },
    {
      "cell_type": "markdown",
      "metadata": {
        "id": "qWMM8Thdpxj1"
      },
      "source": [
        "Function: numpy.vsplit() function split an array into multiple sub-arrays vertically (row-wise). vsplit is equivalent to split with axis=0 (default), the array is always split along the first axis regardless of the array dimension.\r\n",
        "\r\n"
      ]
    },
    {
      "cell_type": "markdown",
      "metadata": {
        "id": "l9ZdnMwMpxj4"
      },
      "source": [
        "Syntax: numpy.vsplit(arr, indices_or_sections)\r\n"
      ]
    },
    {
      "cell_type": "markdown",
      "metadata": {
        "id": "8naP7gPzpxj5"
      },
      "source": [
        "Code:"
      ]
    },
    {
      "cell_type": "code",
      "metadata": {
        "colab": {
          "base_uri": "https://localhost:8080/"
        },
        "id": "cJF9NkKmpxj6",
        "outputId": "70fc1188-1773-4fd0-faa1-7632c8a59731"
      },
      "source": [
        "arr = np.arange(9.0).reshape(3, 3) \r\n",
        "result = np.vsplit(arr, 1) \r\n",
        "print(result) \r\n"
      ],
      "execution_count": 29,
      "outputs": [
        {
          "output_type": "stream",
          "text": [
            "[array([[0., 1., 2.],\n",
            "       [3., 4., 5.],\n",
            "       [6., 7., 8.]])]\n"
          ],
          "name": "stdout"
        }
      ]
    },
    {
      "cell_type": "markdown",
      "metadata": {
        "id": "QsDTYX_Vpxj7"
      },
      "source": [
        "#15.View vs Shallow Copy"
      ]
    },
    {
      "cell_type": "markdown",
      "metadata": {
        "id": "gUspbNOQp7X1"
      },
      "source": [
        "Function: It is less obvious what a shallow copy of a NumPy array should contain. A view of a NumPy array is a shallow copy in sense A, i.e. it references the same data buffer as the original, so changes to the original data affect the view data and vice versa.\r\n"
      ]
    },
    {
      "cell_type": "markdown",
      "metadata": {
        "id": "QSHlEdV6p7X2"
      },
      "source": [
        "Syntax: copy.copy()"
      ]
    },
    {
      "cell_type": "markdown",
      "metadata": {
        "id": "cDAQkjQLp7X2"
      },
      "source": [
        "Code:"
      ]
    },
    {
      "cell_type": "code",
      "metadata": {
        "colab": {
          "base_uri": "https://localhost:8080/"
        },
        "id": "M4zyN4vpp7X3",
        "outputId": "de54dec4-ac5f-48aa-b01d-b4f5d969c453"
      },
      "source": [
        "li1 = [1, 2, [3,5], 4] \r\n",
        "  \r\n",
        "# using copy to shallow copy  \r\n",
        "li2 = copy.copy(li1) \r\n",
        "  \r\n",
        "# original elements of list \r\n",
        "print (\"The original elements before shallow copying\") \r\n",
        "for i in range(0,len(li1)): \r\n",
        "    print (li1[i],end=\" \") \r\n",
        "  \r\n",
        "print(\"\\r\") \r\n",
        "  \r\n",
        "# adding and element to new list \r\n",
        "li2[2][0] = 7\r\n",
        "  \r\n",
        "# checking if change is reflected \r\n",
        "print (\"The original elements after shallow copying\") \r\n",
        "for i in range(0,len( li1)): \r\n",
        "    print (li1[i],end=\" \")"
      ],
      "execution_count": 37,
      "outputs": [
        {
          "output_type": "stream",
          "text": [
            "The original elements before shallow copying\n",
            "1 2 [3, 5] 4 \r\n",
            "The original elements after shallow copying\n",
            "1 2 [7, 5] 4 "
          ],
          "name": "stdout"
        }
      ]
    },
    {
      "cell_type": "markdown",
      "metadata": {
        "id": "Q9xqoe_jp7X4"
      },
      "source": [
        "#16.Deep Copy"
      ]
    },
    {
      "cell_type": "markdown",
      "metadata": {
        "id": "kqOR7zYiqC_U"
      },
      "source": [
        "Function: In case of deep copy, a copy of object is copied in other object. It means that any changes made to a copy of object do not reflect in the original object. In python, this is implemented using “deepcopy()” function.\r\n"
      ]
    },
    {
      "cell_type": "markdown",
      "metadata": {
        "id": "A_iqYHPWqC_V"
      },
      "source": [
        "Syntax: copy.deepcopy()\r\n",
        "\r\n",
        "\r\n"
      ]
    },
    {
      "cell_type": "markdown",
      "metadata": {
        "id": "Bwdo2Lr-qC_W"
      },
      "source": [
        "Code:"
      ]
    },
    {
      "cell_type": "code",
      "metadata": {
        "colab": {
          "base_uri": "https://localhost:8080/"
        },
        "id": "5IoJB25GqC_X",
        "outputId": "bc8dfa47-2a81-4b4f-d6da-64c7f1f8ce75"
      },
      "source": [
        "li1 = [1, 2, [3,5], 4] \r\n",
        "  \r\n",
        "li2 = copy.deepcopy(li1) \r\n",
        "   \r\n",
        "print (\"The original elements before deep copying\") \r\n",
        "for i in range(0,len(li1)): \r\n",
        "    print (li1[i],end=\" \") \r\n",
        "  \r\n",
        "print(\"\\r\") \r\n",
        " \r\n",
        "li2[2][0] = 7\r\n",
        " \r\n",
        "print (\"The new list of elements after deep copying \") \r\n",
        "for i in range(0,len( li1)): \r\n",
        "    print (li2[i],end=\" \") \r\n",
        "  \r\n",
        "print(\"\\r\") \r\n",
        "print (\"The original elements after deep copying\") \r\n",
        "for i in range(0,len( li1)): \r\n",
        "    print (li1[i],end=\" \") \r\n"
      ],
      "execution_count": 36,
      "outputs": [
        {
          "output_type": "stream",
          "text": [
            "The original elements before deep copying\n",
            "1 2 [3, 5] 4 \r\n",
            "The new list of elements after deep copying \n",
            "1 2 [7, 5] 4 \r\n",
            "The original elements after deep copying\n",
            "1 2 [3, 5] 4 "
          ],
          "name": "stdout"
        }
      ]
    },
    {
      "cell_type": "markdown",
      "metadata": {
        "id": "H0MaseqdqC_X"
      },
      "source": [
        "#17.copy()"
      ]
    },
    {
      "cell_type": "markdown",
      "metadata": {
        "id": "lT2M76-NqPRk"
      },
      "source": [
        "Function: copy() returns a copy of the array. Parameters: order : Controls the memory layout of the copy. 'C' means C-order, 'F' means F-order, 'A' means 'F' if a is Fortran contiguous, 'C' otherwise.\r\n",
        "\r\n"
      ]
    },
    {
      "cell_type": "markdown",
      "metadata": {
        "id": "Ngrt_1Z8qPRl"
      },
      "source": [
        "Syntax: numpy.ndarray.copy(order=’C’)\r\n",
        "\r\n"
      ]
    },
    {
      "cell_type": "markdown",
      "metadata": {
        "id": "gPe2siFKqPRm"
      },
      "source": [
        "Code:"
      ]
    },
    {
      "cell_type": "code",
      "metadata": {
        "colab": {
          "base_uri": "https://localhost:8080/"
        },
        "id": "M1hGliYbqPRm",
        "outputId": "91a325f8-7f0e-4e49-e46c-40c361dafb54"
      },
      "source": [
        "x = np.array([[0, 1, 2, 3], [4, 5, 6, 7]], order ='F') \r\n",
        "print(\"x is: \\n\", x) \r\n",
        "y = x.copy() \r\n",
        "print(\"y is :\\n\", y) \r\n",
        "print(\"\\nx is copied to y\") \r\n"
      ],
      "execution_count": 30,
      "outputs": [
        {
          "output_type": "stream",
          "text": [
            "x is: \n",
            " [[0 1 2 3]\n",
            " [4 5 6 7]]\n",
            "y is :\n",
            " [[0 1 2 3]\n",
            " [4 5 6 7]]\n",
            "\n",
            "x is copied to y\n"
          ],
          "name": "stdout"
        }
      ]
    },
    {
      "cell_type": "markdown",
      "metadata": {
        "id": "xIHAv5mWqPRn"
      },
      "source": [
        "#18.meshgrid()"
      ]
    },
    {
      "cell_type": "markdown",
      "metadata": {
        "id": "hC9GU-aGqThM"
      },
      "source": [
        "Function: meshgrid() in Python. The numpy module of Python provides meshgrid() function for creating a rectangular grid with the help of the given 1-D arrays that represent the Matrix indexing or Cartesian indexing.\r\n"
      ]
    },
    {
      "cell_type": "markdown",
      "metadata": {
        "id": "tIkYcXcuqThN"
      },
      "source": [
        "Syntax: numpy.meshgrid(*xi, **kwargs)  \r\n"
      ]
    },
    {
      "cell_type": "markdown",
      "metadata": {
        "id": "FKR8jnZoqThO"
      },
      "source": [
        "Code:"
      ]
    },
    {
      "cell_type": "code",
      "metadata": {
        "colab": {
          "base_uri": "https://localhost:8080/"
        },
        "id": "KLUIZ61qqThO",
        "outputId": "de5450b2-c075-491c-8b2b-65b98ad53e52"
      },
      "source": [
        "na, nb = (5, 3)  \r\n",
        "a = np.linspace(1, 2, na)  \r\n",
        "b = np.linspace(1, 2, nb)  \r\n",
        "xa, xb = np.meshgrid(a, b)  \r\n",
        "xa  \r\n",
        "xb"
      ],
      "execution_count": 31,
      "outputs": [
        {
          "output_type": "execute_result",
          "data": {
            "text/plain": [
              "array([[1. , 1. , 1. , 1. , 1. ],\n",
              "       [1.5, 1.5, 1.5, 1.5, 1.5],\n",
              "       [2. , 2. , 2. , 2. , 2. ]])"
            ]
          },
          "metadata": {
            "tags": []
          },
          "execution_count": 31
        }
      ]
    },
    {
      "cell_type": "markdown",
      "metadata": {
        "id": "KnAM8iQnqThP"
      },
      "source": [
        "#19.swapaxes()"
      ]
    },
    {
      "cell_type": "markdown",
      "metadata": {
        "id": "I5WTwU1hqe6r"
      },
      "source": [
        "Function: numpy. swapaxes (a, axis1, axis2)[source] Interchange two axes of an array. Parameters aarray_like. Input array.\r\n"
      ]
    },
    {
      "cell_type": "markdown",
      "metadata": {
        "id": "BG4-Bx1gqe6t"
      },
      "source": [
        "Syntax: numpy.swapaxes(arr, axis1, axis2)\r\n"
      ]
    },
    {
      "cell_type": "markdown",
      "metadata": {
        "id": "LE336rTHqe6t"
      },
      "source": [
        "Code:"
      ]
    },
    {
      "cell_type": "code",
      "metadata": {
        "colab": {
          "base_uri": "https://localhost:8080/"
        },
        "id": "Fk7-DGK8qe6u",
        "outputId": "425d30ce-4ba1-4555-c247-463601bd2554"
      },
      "source": [
        "arr = np.array([[2, 4, 6]]) \r\n",
        "result = np.swapaxes(arr, 0, 1) \r\n",
        "print(result)"
      ],
      "execution_count": 32,
      "outputs": [
        {
          "output_type": "stream",
          "text": [
            "[[2]\n",
            " [4]\n",
            " [6]]\n"
          ],
          "name": "stdout"
        }
      ]
    },
    {
      "cell_type": "markdown",
      "metadata": {
        "id": "JQebnPb0qe6v"
      },
      "source": [
        "#20.column_stack()"
      ]
    },
    {
      "cell_type": "markdown",
      "metadata": {
        "id": "MAAd9CvCqrC8"
      },
      "source": [
        "Function: column_stack() in Python. numpy. column_stack() function is used to stack 1-D arrays as columns into a 2-D array.It takes a sequence of 1-D arrays and stack them as columns to make a single 2-D array. 2-D arrays are stacked as-is,just like with hstack function.\r\n"
      ]
    },
    {
      "cell_type": "markdown",
      "metadata": {
        "id": "ijJ9XZHyqrC9"
      },
      "source": [
        "Syntax: numpy.column_stack(tup)\r\n",
        "\r\n"
      ]
    },
    {
      "cell_type": "markdown",
      "metadata": {
        "id": "ZOdcHJUOqrC-"
      },
      "source": [
        "Code:"
      ]
    },
    {
      "cell_type": "code",
      "metadata": {
        "colab": {
          "base_uri": "https://localhost:8080/"
        },
        "id": "Ds4NnyMRqrC-",
        "outputId": "805c9136-d981-4d5a-d2f1-6ef6cb5fba68"
      },
      "source": [
        "in_arr1 = np.array(( 1, 2, 3 )) \r\n",
        "print (\"1st Input array : \\n\", in_arr1)  \r\n",
        "  \r\n",
        "in_arr2 = np.array(( 4, 5, 6 )) \r\n",
        "print (\"2nd Input array : \\n\", in_arr2)  \r\n",
        "    \r\n",
        "out_arr = np.column_stack((in_arr1, in_arr2)) \r\n",
        "print (\"Output stacked array:\\n \", out_arr) \r\n"
      ],
      "execution_count": 33,
      "outputs": [
        {
          "output_type": "stream",
          "text": [
            "1st Input array : \n",
            " [1 2 3]\n",
            "2nd Input array : \n",
            " [4 5 6]\n",
            "Output stacked array:\n",
            "  [[1 4]\n",
            " [2 5]\n",
            " [3 6]]\n"
          ],
          "name": "stdout"
        }
      ]
    }
  ]
}